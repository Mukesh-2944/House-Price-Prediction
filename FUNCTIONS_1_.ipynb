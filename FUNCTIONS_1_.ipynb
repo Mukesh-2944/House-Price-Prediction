{
  "cells": [
    {
      "cell_type": "markdown",
      "metadata": {
        "id": "Rg2ZBqGAQwAf"
      },
      "source": [
        "*** USE THE CONCEPT OF FUNCTIONS TO SOLVE THE BELOW PROGRAMMING QUESTIONS ***"
      ]
    },
    {
      "cell_type": "markdown",
      "metadata": {
        "id": "ScHTvbE1QwCo"
      },
      "source": [
        "1) Write a Python function to sum all the numbers in a list.\n",
        "\n",
        "Sample List : (8, 2, 3, 0, 7)\n",
        "\n",
        "Expected Output : 20\n"
      ]
    },
    {
      "cell_type": "code",
      "execution_count": 1,
      "metadata": {
        "id": "aR_k4uReQ8Og"
      },
      "outputs": [
        {
          "name": "stdout",
          "output_type": "stream",
          "text": [
            "Sum of numbers in the list: 20\n"
          ]
        }
      ],
      "source": [
        "#WRITE YOUR CODE HERE\n",
        "def sum_of_list(numbers):\n",
        "    return sum(numbers) \n",
        "sample_list = [8, 2, 3, 0, 7]\n",
        "print(\"Sum of numbers in the list:\", sum_of_list(sample_list))"
      ]
    },
    {
      "cell_type": "markdown",
      "metadata": {
        "id": "dZtcDLjAQwE-"
      },
      "source": [
        "2) Write a Python function to multiply all the numbers in a list.\n",
        "\n",
        "Sample List : (8, 2, 3, -1, 7)\n",
        "\n",
        "Expected Output : -336"
      ]
    },
    {
      "cell_type": "code",
      "execution_count": 2,
      "metadata": {
        "id": "98uwoSPnRHyL"
      },
      "outputs": [
        {
          "name": "stdout",
          "output_type": "stream",
          "text": [
            "Product of numbers in the list: -336\n"
          ]
        }
      ],
      "source": [
        "#WRITE YOUR CODE HERE\n",
        "def multiply_list(numbers):\n",
        "    result = 1\n",
        "    for num in numbers:\n",
        "        result *= num  \n",
        "    return result\n",
        "sample_list = (8, 2, 3, -1, 7)\n",
        "print(\"Product of numbers in the list:\", multiply_list(sample_list))\n"
      ]
    },
    {
      "cell_type": "markdown",
      "metadata": {
        "id": "99G7rde1QwHN"
      },
      "source": [
        "3) Write a Python program to reverse a string.\n",
        "\n",
        "Sample String : \"1234abcd\"\n",
        "\n",
        "Expected Output : \"dcba4321\""
      ]
    },
    {
      "cell_type": "code",
      "execution_count": 3,
      "metadata": {
        "id": "6qmLELFCRQAD"
      },
      "outputs": [
        {
          "name": "stdout",
          "output_type": "stream",
          "text": [
            "Reversed String: dcba4321\n"
          ]
        }
      ],
      "source": [
        "#WRITE YOUR CODE HERE\n",
        "def reverse_string(s):\n",
        "    return s[::-1] \n",
        "sample_string = \"1234abcd\"\n",
        "print(\"Reversed String:\", reverse_string(sample_string))\n"
      ]
    },
    {
      "cell_type": "markdown",
      "metadata": {
        "id": "_XE8as7eQwJn"
      },
      "source": [
        "4) Write a Python function to calculate the factorial of a number (a non-negative integer). The function accepts the number as an argument."
      ]
    },
    {
      "cell_type": "code",
      "execution_count": 4,
      "metadata": {
        "id": "Di5n5kNARZdn"
      },
      "outputs": [
        {
          "name": "stdout",
          "output_type": "stream",
          "text": [
            "Factorial of 5 is: 120\n"
          ]
        }
      ],
      "source": [
        "#WRITE YOUR CODE HERE\n",
        "def factorial(n):\n",
        "    if n < 0:\n",
        "        return \"Factorial is not defined for negative numbers.\"\n",
        "    if n == 0 or n == 1:\n",
        "        return 1\n",
        "    return n * factorial(n - 1) \n",
        "num = 5\n",
        "print(\"Factorial of\", num, \"is:\", factorial(num))\n"
      ]
    },
    {
      "cell_type": "markdown",
      "metadata": {
        "id": "I2zyMS7XQwLx"
      },
      "source": [
        "5) Write a Python function to check whether a number falls within a given range."
      ]
    },
    {
      "cell_type": "code",
      "execution_count": 5,
      "metadata": {
        "id": "rouydHDQRgcc"
      },
      "outputs": [
        {
          "name": "stdout",
          "output_type": "stream",
          "text": [
            "10 is in the range (5, 15)\n"
          ]
        }
      ],
      "source": [
        "#WRITE YOUR CODE HERE\n",
        "def is_in_range(num, start, end):\n",
        "    return start <= num <= end \n",
        "num = 10\n",
        "start, end = 5, 15\n",
        "if is_in_range(num, start, end):\n",
        "    print(f\"{num} is in the range ({start}, {end})\")\n",
        "else:\n",
        "    print(f\"{num} is NOT in the range ({start}, {end})\")\n"
      ]
    }
  ],
  "metadata": {
    "colab": {
      "provenance": []
    },
    "kernelspec": {
      "display_name": "base",
      "language": "python",
      "name": "python3"
    },
    "language_info": {
      "codemirror_mode": {
        "name": "ipython",
        "version": 3
      },
      "file_extension": ".py",
      "mimetype": "text/x-python",
      "name": "python",
      "nbconvert_exporter": "python",
      "pygments_lexer": "ipython3",
      "version": "3.11.5"
    }
  },
  "nbformat": 4,
  "nbformat_minor": 0
}
