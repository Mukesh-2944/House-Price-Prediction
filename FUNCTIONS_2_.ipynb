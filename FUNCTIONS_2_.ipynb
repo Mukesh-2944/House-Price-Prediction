{
  "cells": [
    {
      "cell_type": "markdown",
      "metadata": {
        "id": "iW-mnZaZRsWX"
      },
      "source": [
        "*** USE THE CONCEPT OF FUNCTIONS TO SOLVE THE BELOW PROGRAMMING QUESTIONS ***"
      ]
    },
    {
      "cell_type": "markdown",
      "metadata": {
        "id": "gZjDc6eiRsYf"
      },
      "source": [
        "1) Write a Python function that accepts a string and counts the number of upper and lower case letters.\n",
        "\n",
        "Sample String : 'The quick Brow Fox'\n",
        "\n",
        "Expected Output :\n",
        "\n",
        "No. of Upper case characters : 3\n",
        "\n",
        "No. of Lower case Characters : 12"
      ]
    },
    {
      "cell_type": "code",
      "execution_count": 1,
      "metadata": {
        "id": "wGtk-weiR-5t"
      },
      "outputs": [
        {
          "name": "stdout",
          "output_type": "stream",
          "text": [
            "No. of Upper case characters: 3\n",
            "No. of Lower case characters: 12\n"
          ]
        }
      ],
      "source": [
        "#WRITE YOUR CODE HERE\n",
        "def count_upper_lower(s):\n",
        "    upper_count = sum(1 for char in s if char.isupper()) \n",
        "    lower_count = sum(1 for char in s if char.islower())  \n",
        "\n",
        "    print(\"No. of Upper case characters:\", upper_count)\n",
        "    print(\"No. of Lower case characters:\", lower_count)\n",
        "\n",
        "sample_string = 'The quick Brow Fox'\n",
        "\n",
        "count_upper_lower(sample_string)\n"
      ]
    },
    {
      "cell_type": "markdown",
      "metadata": {
        "id": "bmt7_PqqRsaw"
      },
      "source": [
        "2) Write a Python function that takes a list and returns a new list with distinct elements from the first list.\n",
        "\n",
        "Sample List : [1,2,3,3,3,3,4,5]\n",
        "\n",
        "Unique List : [1, 2, 3, 4, 5]"
      ]
    },
    {
      "cell_type": "code",
      "execution_count": null,
      "metadata": {
        "id": "Za2S_kbzSQJZ"
      },
      "outputs": [
        {
          "name": "stdout",
          "output_type": "stream",
          "text": [
            "Unique List: [1, 2, 3, 4, 5]\n"
          ]
        }
      ],
      "source": [
        "#WRITE YOUR CODE HERE\n",
        "def get_unique_elements(lst):\n",
        "    return list(set(lst)) \n",
        "\n",
        "sample_list = [1, 2, 3, 3, 3, 3, 4, 5]\n",
        "\n",
        "unique_list = get_unique_elements(sample_list)\n",
        "\n",
        "print(\"Unique List:\", unique_list)\n"
      ]
    },
    {
      "cell_type": "markdown",
      "metadata": {
        "id": "adx-jfbnRsdC"
      },
      "source": [
        "3) Write a Python function that takes a number as a parameter and checks whether the number is prime or not.\n",
        "\n",
        "Note : A prime number (or a prime) is a natural number greater than 1 and that has no positive divisors other than 1 and itself."
      ]
    },
    {
      "cell_type": "code",
      "execution_count": 3,
      "metadata": {
        "id": "RaBolJpSSa4N"
      },
      "outputs": [
        {
          "name": "stdout",
          "output_type": "stream",
          "text": [
            "29 is a prime number\n"
          ]
        }
      ],
      "source": [
        "#WRITE YOUR CODE HERE\n",
        "def is_prime(n):\n",
        "    if n < 2:\n",
        "        return False  \n",
        "    for i in range(2, int(n ** 0.5) + 1):  \n",
        "        if n % i == 0:\n",
        "            return False  \n",
        "    return True \n",
        "\n",
        "num = 29\n",
        "if is_prime(num):\n",
        "    print(num, \"is a prime number\")\n",
        "else:\n",
        "    print(num, \"is NOT a prime number\")\n"
      ]
    },
    {
      "cell_type": "markdown",
      "metadata": {
        "id": "P2i2bBwIRsfQ"
      },
      "source": [
        "4)Write a Python program to print the even numbers from a given list.\n",
        "\n",
        "Sample List : [1, 2, 3, 4, 5, 6, 7, 8, 9]\n",
        "\n",
        "Expected Result : [2, 4, 6, 8]\n"
      ]
    },
    {
      "cell_type": "code",
      "execution_count": 4,
      "metadata": {
        "id": "32Rk_UCp_pAT"
      },
      "outputs": [
        {
          "name": "stdout",
          "output_type": "stream",
          "text": [
            "Even Numbers: [2, 4, 6, 8]\n"
          ]
        }
      ],
      "source": [
        "# WRITE YOUR CODE HERE\n",
        "def get_even_numbers(lst):\n",
        "    return [num for num in lst if num % 2 == 0]  \n",
        "\n",
        "sample_list = [1, 2, 3, 4, 5, 6, 7, 8, 9]\n",
        "even_numbers = get_even_numbers(sample_list)\n",
        "print(\"Even Numbers:\", even_numbers)\n"
      ]
    },
    {
      "cell_type": "markdown",
      "metadata": {
        "id": "kaTTpignRsh7"
      },
      "source": [
        "5) Write a Python function to check whether a string is a pangram or not.\n",
        "\n",
        "Note : Pangrams are words or sentences containing every letter of the alphabet at least once.\n",
        "\n",
        "For example : \"The quick brown fox jumps over the lazy dog\""
      ]
    },
    {
      "cell_type": "code",
      "execution_count": 5,
      "metadata": {
        "id": "EHEntu3P_5s8"
      },
      "outputs": [
        {
          "name": "stdout",
          "output_type": "stream",
          "text": [
            "The string is a pangram\n"
          ]
        }
      ],
      "source": [
        "# WRITE YOUR CODE HERE\n",
        "import string\n",
        "\n",
        "def is_pangram(s):\n",
        "    alphabet_set = set(string.ascii_lowercase) \n",
        "    return set(s.lower()) >= alphabet_set   \n",
        "\n",
        "sample_text = \"The quick brown fox jumps over the lazy dog\"\n",
        "if is_pangram(sample_text):\n",
        "    print(\"The string is a pangram\")\n",
        "else:\n",
        "    print(\"The string is NOT a pangram\")\n"
      ]
    },
    {
      "cell_type": "markdown",
      "metadata": {
        "id": "3InqavJfRslk"
      },
      "source": []
    }
  ],
  "metadata": {
    "colab": {
      "provenance": []
    },
    "kernelspec": {
      "display_name": "base",
      "language": "python",
      "name": "python3"
    },
    "language_info": {
      "codemirror_mode": {
        "name": "ipython",
        "version": 3
      },
      "file_extension": ".py",
      "mimetype": "text/x-python",
      "name": "python",
      "nbconvert_exporter": "python",
      "pygments_lexer": "ipython3",
      "version": "3.11.5"
    }
  },
  "nbformat": 4,
  "nbformat_minor": 0
}
